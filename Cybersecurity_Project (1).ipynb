{
 "cells": [
  {
   "cell_type": "code",
   "execution_count": null,
   "id": "bac3b9ad",
   "metadata": {},
   "outputs": [],
   "source": [
    "# 1) Data Import\n",
    "from google.colab import files\n",
    "import io, pandas as pd, numpy as np\n",
    "uploaded = files.upload()\n",
    "fname = list(uploaded.keys())[0]\n",
    "df = pd.read_csv(io.BytesIO(uploaded[fname]))\n",
    "print(df.shape)\n",
    "df.head()"
   ]
  },
  {
   "cell_type": "code",
   "execution_count": null,
   "id": "322deb54",
   "metadata": {},
   "outputs": [],
   "source": [
    "# 2) Data Preprocessing\n",
    "df.drop_duplicates(inplace=True)\n",
    "for col in ['bytes_in','bytes_out','dst_port']:\n",
    "    if col in df.columns:\n",
    "        df[col] = pd.to_numeric(df[col], errors='coerce')\n",
    "        df[col].fillna(df[col].median(), inplace=True)\n",
    "for col in ['creation_time','end_time']:\n",
    "    if col in df.columns:\n",
    "        df[col] = pd.to_datetime(df[col], errors='coerce')\n",
    "print(df.info())"
   ]
  },
  {
   "cell_type": "code",
   "execution_count": null,
   "id": "b41eafeb",
   "metadata": {},
   "outputs": [],
   "source": [
    "# 3) Feature Engineering\n",
    "df['session_duration'] = (df['end_time']-df['creation_time']).dt.total_seconds().fillna(600)\n",
    "df['avg_packet_size'] = (df.get('bytes_in',0)+df.get('bytes_out',0))/(df['session_duration'].replace(0,np.nan))\n",
    "df['throughput'] = (df.get('bytes_in',0)+df.get('bytes_out',0))/(df['session_duration'].replace(0,np.nan))\n",
    "if 'rule_names' in df.columns:\n",
    "    df['is_suspicious'] = df['rule_names'].astype(str).str.contains('attack|waf|rule',case=False,na=False).astype(int)\n",
    "else:\n",
    "    df['is_suspicious'] = 0\n",
    "df[['session_duration','avg_packet_size','throughput','is_suspicious']].head()"
   ]
  },
  {
   "cell_type": "code",
   "execution_count": null,
   "id": "f8823279",
   "metadata": {},
   "outputs": [],
   "source": [
    "# 4) EDA - distributions\n",
    "import matplotlib.pyplot as plt\n",
    "plt.hist(df['bytes_in'].dropna(), bins=50); plt.title('Bytes_in'); plt.show()\n",
    "plt.hist(df['bytes_out'].dropna(), bins=50); plt.title('Bytes_out'); plt.show()"
   ]
  },
  {
   "cell_type": "code",
   "execution_count": null,
   "id": "cd882df9",
   "metadata": {},
   "outputs": [],
   "source": [
    "# 5) EDA - Protocol/Ports\n",
    "if 'protocol' in df.columns:\n",
    "    df['protocol'].value_counts().head(10).plot(kind='bar'); plt.title('Protocol counts'); plt.show()\n",
    "if 'dst_port' in df.columns:\n",
    "    df['dst_port'].value_counts().head(10).plot(kind='bar'); plt.title('Top Ports'); plt.show()"
   ]
  },
  {
   "cell_type": "code",
   "execution_count": null,
   "id": "0166356c",
   "metadata": {},
   "outputs": [],
   "source": [
    "# 6) Correlation heatmap\n",
    "import seaborn as sns\n",
    "num_cols = df.select_dtypes(include=[np.number]).columns\n",
    "sns.heatmap(df[num_cols].corr(), cmap='coolwarm'); plt.show()"
   ]
  },
  {
   "cell_type": "code",
   "execution_count": null,
   "id": "013821d4",
   "metadata": {},
   "outputs": [],
   "source": [
    "# 7) Anomaly Detection - IsolationForest & LOF\n",
    "from sklearn.ensemble import IsolationForest\n",
    "from sklearn.neighbors import LocalOutlierFactor\n",
    "features = ['bytes_in','bytes_out','session_duration','avg_packet_size']\n",
    "X = df[features].fillna(0)\n",
    "iso = IsolationForest(contamination=0.05, random_state=42)\n",
    "df['iso_anomaly'] = iso.fit_predict(X).astype(int)\n",
    "lof = LocalOutlierFactor(contamination=0.05)\n",
    "df['lof_anomaly'] = pd.Series(lof.fit_predict(X)).map({1:0,-1:1})\n",
    "print(df[['iso_anomaly','lof_anomaly']].value_counts())"
   ]
  },
  {
   "cell_type": "code",
   "execution_count": null,
   "id": "935d7337",
   "metadata": {},
   "outputs": [],
   "source": [
    "# 8) Classification - RandomForest\n",
    "from sklearn.model_selection import train_test_split\n",
    "from sklearn.ensemble import RandomForestClassifier\n",
    "from sklearn.metrics import classification_report\n",
    "X = df[features].fillna(0)\n",
    "y = df['is_suspicious']\n",
    "X_train,X_test,y_train,y_test = train_test_split(X,y,test_size=0.3,random_state=42,stratify=y)\n",
    "rf = RandomForestClassifier(n_estimators=200, random_state=42)\n",
    "rf.fit(X_train,y_train)\n",
    "y_pred = rf.predict(X_test)\n",
    "print(classification_report(y_test,y_pred))"
   ]
  },
  {
   "cell_type": "code",
   "execution_count": null,
   "id": "1c8df6d7",
   "metadata": {},
   "outputs": [],
   "source": [
    "# 9) Neural Network - MLP\n",
    "import tensorflow as tf\n",
    "from tensorflow.keras.models import Sequential\n",
    "from tensorflow.keras.layers import Dense, Dropout\n",
    "mlp = Sequential([Dense(64,activation='relu',input_shape=(X_train.shape[1],)),\n",
    "                  Dense(32,activation='relu'),Dropout(0.3),\n",
    "                  Dense(1,activation='sigmoid')])\n",
    "mlp.compile(optimizer='adam',loss='binary_crossentropy',metrics=['accuracy'])\n",
    "mlp.fit(X_train,y_train,epochs=10,batch_size=32,verbose=0)\n",
    "print(\"MLP Accuracy:\", mlp.evaluate(X_test,y_test,verbose=0)[1])"
   ]
  }
 ],
 "metadata": {},
 "nbformat": 4,
 "nbformat_minor": 5
}
